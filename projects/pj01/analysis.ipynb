{
 "cells": [
  {
   "cell_type": "markdown",
   "metadata": {},
   "source": [
    "# Class Analysis\n",
    "\n",
    "## Hypothesis: I think the number of people that said the class was slow paced is equal to the number that took AP Computer Science Principles in high school."
   ]
  },
  {
   "cell_type": "code",
   "execution_count": 31,
   "metadata": {},
   "outputs": [],
   "source": [
    "%reload_ext autoreload\n",
    "%autoreload 2"
   ]
  },
  {
   "cell_type": "markdown",
   "metadata": {},
   "source": [
    "### My first step is to read in the class survey data table in csv format, and convert it to a column-oriented table."
   ]
  },
  {
   "cell_type": "code",
   "execution_count": 32,
   "metadata": {},
   "outputs": [],
   "source": [
    "from data_utils import read_csv_rows, columnar\n",
    "\n",
    "rows: list[dict[str, str]] = read_csv_rows('../../data/survey.csv')\n",
    "columns: dict[str, list[str]] = columnar(rows)"
   ]
  },
  {
   "cell_type": "markdown",
   "metadata": {},
   "source": [
    "### My second step is to choose just the columns that contain data on AP Computer Science Principles and the pace of the class. The first 10 rows of each are displayed below."
   ]
  },
  {
   "cell_type": "code",
   "execution_count": 33,
   "metadata": {},
   "outputs": [
    {
     "data": {
      "text/plain": [
       "{'AP_Principles': ['', '', '', '', '', 'Yes', '', '', '', ''],\n",
       " 'pace': ['5', '5', '5', '6', '5', '5', '6', '5', '4', '7']}"
      ]
     },
     "execution_count": 33,
     "metadata": {},
     "output_type": "execute_result"
    }
   ],
   "source": [
    "from data_utils import head, select\n",
    "ap_comp: dict[str, list[str]] = select(columns, [\"AP_Principles\", \"pace\"])\n",
    "head(ap_comp, 10)"
   ]
  },
  {
   "cell_type": "markdown",
   "metadata": {},
   "source": [
    "### My third step is to tally the total \"Yes\", \"No\", and unanswered responses from the AP Comp Sci Principles data."
   ]
  },
  {
   "cell_type": "code",
   "execution_count": 34,
   "metadata": {},
   "outputs": [
    {
     "name": "stdout",
     "output_type": "stream",
     "text": [
      "Total 'Yes' responses: 46\n",
      "Total 'No' responses: 124\n",
      "Total left unanswered: 403\n"
     ]
    }
   ],
   "source": [
    "from data_utils import count\n",
    "totals = count(ap_comp[\"AP_Principles\"])\n",
    "\n",
    "print(f\"Total 'Yes' responses: {totals['Yes']}\")\n",
    "print(f\"Total 'No' responses: {totals['No']}\")\n",
    "print(f\"Total left unanswered: {totals['']}\")"
   ]
  },
  {
   "cell_type": "markdown",
   "metadata": {},
   "source": [
    "### My fourth step is to tally the total \"fast\" (5, 6, or 7), \"slow\" (1, 2, or 3), and \"average\" (4) paced responses from the pace data."
   ]
  },
  {
   "cell_type": "code",
   "execution_count": 35,
   "metadata": {},
   "outputs": [
    {
     "name": "stdout",
     "output_type": "stream",
     "text": [
      "Total who said the class is fast-paced: 414\n",
      "Total who said the class is slow-paced: 29\n",
      "Total who said the class is average paced: 130\n"
     ]
    }
   ],
   "source": [
    "speed = count(ap_comp[\"pace\"])\n",
    "\n",
    "print(f\"Total who said the class is fast-paced: {speed['7'] + speed['6'] + speed['5']}\")\n",
    "print(f\"Total who said the class is slow-paced: {speed['1'] + speed['2'] + speed['3']}\")\n",
    "print(f\"Total who said the class is average paced: {speed['4']}\")"
   ]
  },
  {
   "cell_type": "markdown",
   "metadata": {},
   "source": [
    "### Now, I will import the seaborn module to create a bar chart representing the data. This first graph shows the difference between students' perception of the class as fast, slow, or average paced."
   ]
  },
  {
   "cell_type": "code",
   "execution_count": 36,
   "metadata": {},
   "outputs": [],
   "source": [
    "import seaborn"
   ]
  },
  {
   "cell_type": "code",
   "execution_count": 37,
   "metadata": {},
   "outputs": [
    {
     "data": {
      "text/plain": [
       "<AxesSubplot:>"
      ]
     },
     "execution_count": 37,
     "metadata": {},
     "output_type": "execute_result"
    },
    {
     "data": {
      "image/png": "[encoded data removed]",
      "text/plain": [
       "<Figure size 432x288 with 1 Axes>"
      ]
     },
     "metadata": {
      "needs_background": "light"
     },
     "output_type": "display_data"
    }
   ],
   "source": [
    "seaborn.barplot(x=[\"Fast-Paced\", \"Average-Paced\", \"Slow-Paced\"], y=[414, 130, 29])"
   ]
  },
  {
   "cell_type": "markdown",
   "metadata": {},
   "source": [
    "### This second graph shows a more detailed breakdown of students' perceived pace of the course (on a scale of 1-7), compared to the totals of students who did, did not, or declined to answer whether they had taken AP Computer Science Principles."
   ]
  },
  {
   "cell_type": "code",
   "execution_count": 38,
   "metadata": {},
   "outputs": [
    {
     "data": {
      "text/plain": [
       "<BarContainer object of 7 artists>"
      ]
     },
     "execution_count": 38,
     "metadata": {},
     "output_type": "execute_result"
    },
    {
     "data": {
      "image/png": "[encoded data removed]",
      "text/plain": [
       "<Figure size 864x360 with 2 Axes>"
      ]
     },
     "metadata": {
      "needs_background": "light"
     },
     "output_type": "display_data"
    }
   ],
   "source": [
    "from matplotlib import pyplot as plt\n",
    "\n",
    "fig, axes = plt.subplots(1, 2, figsize=(12, 5), sharey=True)\n",
    "fig.suptitle(\"Students who took AP CS Principles vs. Perceived Pace\")\n",
    "\n",
    "\n",
    "axes[0].set_title(\"AP Copmuter Science Principles\")\n",
    "axes[0].bar(totals.keys(), totals.values())\n",
    "axes[0].tick_params(axis='x', labelrotation = 45)\n",
    "\n",
    "axes[1].set_title(\"Pace (1-7: 1=slow, 7=fast)\")\n",
    "axes[1].bar(speed.keys(), speed.values())"
   ]
  },
  {
   "cell_type": "markdown",
   "metadata": {},
   "source": [
    "## Conclusion\n",
    "\n",
    "It turns out that I was wrong. In fact, 17 more people took AP Computer Science Principles than think the class is slow-paced. There could be some data points left out due to the fact that the AP question was optional, and over 400 did not answer it. I think it is safe to assume that most of these individuals did not take the course in high school. However, there very well could be some missing responses. I was surprised to find that 5 was the most common choice for pace. This shows that the class is probably paced a little above average for a similar course. "
   ]
  }
 ],
 "metadata": {
  "interpreter": {
   "hash": "aee8b7b246df8f9039afb4144a1f6fd8d2ca17a180786b69acc140d282b71a49"
  },
  "kernelspec": {
   "display_name": "Python 3.9.6 64-bit",
   "language": "python",
   "name": "python3"
  },
  "language_info": {
   "codemirror_mode": {
    "name": "ipython",
    "version": 3
   },
   "file_extension": ".py",
   "mimetype": "text/x-python",
   "name": "python",
   "nbconvert_exporter": "python",
   "pygments_lexer": "ipython3",
   "version": "3.9.6"
  },
  "orig_nbformat": 4
 },
 "nbformat": 4,
 "nbformat_minor": 2
}
